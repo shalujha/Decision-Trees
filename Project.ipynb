{
 "cells": [
  {
   "cell_type": "code",
   "execution_count": 1,
   "metadata": {},
   "outputs": [],
   "source": [
    "import pandas as pd\n",
    "import numpy as np"
   ]
  },
  {
   "cell_type": "code",
   "execution_count": 2,
   "metadata": {},
   "outputs": [
    {
     "name": "stdout",
     "output_type": "stream",
     "text": [
      "   pclass  survived                                            name     sex  \\\n",
      "0       3         0                         O'Donoghue, Ms. Bridget  female   \n",
      "1       2         0  Morley, Mr. Henry Samuel (\"Mr Henry Marshall\")    male   \n",
      "2       2         1                       Smith, Miss. Marion Elsie  female   \n",
      "3       3         1  Goldsmith, Mrs. Frank John (Emily Alice Brown)  female   \n",
      "4       3         1                              McCoy, Miss. Agnes  female   \n",
      "\n",
      "    age  sibsp  parch  ticket    fare cabin embarked boat  body  \\\n",
      "0   NaN      0      0  364856   7.750   NaN        Q  NaN   NaN   \n",
      "1  39.0      0      0  250655  26.000   NaN        S  NaN   NaN   \n",
      "2  40.0      0      0   31418  13.000   NaN        S    9   NaN   \n",
      "3  31.0      1      1  363291  20.525   NaN        S  C D   NaN   \n",
      "4   NaN      2      0  367226  23.250   NaN        Q   16   NaN   \n",
      "\n",
      "                           home.dest  \n",
      "0                                NaN  \n",
      "1                                NaN  \n",
      "2                                NaN  \n",
      "3  Strood, Kent, England Detroit, MI  \n",
      "4                                NaN  \n"
     ]
    }
   ],
   "source": [
    "train_data=pd.read_csv('train.csv')\n",
    "print(train_data.head())"
   ]
  },
  {
   "cell_type": "code",
   "execution_count": 3,
   "metadata": {},
   "outputs": [
    {
     "name": "stdout",
     "output_type": "stream",
     "text": [
      "Index(['pclass', 'survived', 'name', 'sex', 'age', 'sibsp', 'parch', 'ticket',\n",
      "       'fare', 'cabin', 'embarked', 'boat', 'body', 'home.dest'],\n",
      "      dtype='object')\n"
     ]
    }
   ],
   "source": [
    "print(train_data.columns)"
   ]
  },
  {
   "cell_type": "code",
   "execution_count": 4,
   "metadata": {},
   "outputs": [
    {
     "name": "stdout",
     "output_type": "stream",
     "text": [
      "<class 'pandas.core.frame.DataFrame'>\n",
      "RangeIndex: 1009 entries, 0 to 1008\n",
      "Data columns (total 8 columns):\n",
      "pclass      1009 non-null int64\n",
      "survived    1009 non-null int64\n",
      "sex         1009 non-null object\n",
      "age         812 non-null float64\n",
      "sibsp       1009 non-null int64\n",
      "parch       1009 non-null int64\n",
      "fare        1008 non-null float64\n",
      "body        98 non-null float64\n",
      "dtypes: float64(3), int64(4), object(1)\n",
      "memory usage: 63.1+ KB\n",
      "None\n"
     ]
    }
   ],
   "source": [
    "columns=[\"name\",\"ticket\",\"embarked\",\"cabin\",\"boat\",\"home.dest\"]\n",
    "data_clean=train_data.drop(columns,axis=1)\n",
    "print(data_clean.info())"
   ]
  },
  {
   "cell_type": "code",
   "execution_count": 5,
   "metadata": {},
   "outputs": [
    {
     "name": "stdout",
     "output_type": "stream",
     "text": [
      "   pclass  survived     sex   age  sibsp  parch    fare  body\n",
      "0       3         0  female   NaN      0      0   7.750   NaN\n",
      "1       2         0    male  39.0      0      0  26.000   NaN\n",
      "2       2         1  female  40.0      0      0  13.000   NaN\n",
      "3       3         1  female  31.0      1      1  20.525   NaN\n",
      "4       3         1  female   NaN      2      0  23.250   NaN\n"
     ]
    }
   ],
   "source": [
    "print(data_clean.head())"
   ]
  },
  {
   "cell_type": "code",
   "execution_count": 6,
   "metadata": {},
   "outputs": [
    {
     "name": "stdout",
     "output_type": "stream",
     "text": [
      "   pclass  survived  sex   age  sibsp  parch    fare  body\n",
      "0       3         0    0   NaN      0      0   7.750   NaN\n",
      "1       2         0    1  39.0      0      0  26.000   NaN\n",
      "2       2         1    0  40.0      0      0  13.000   NaN\n",
      "3       3         1    0  31.0      1      1  20.525   NaN\n",
      "4       3         1    0   NaN      2      0  23.250   NaN\n"
     ]
    }
   ],
   "source": [
    "from sklearn.preprocessing import LabelEncoder\n",
    "le=LabelEncoder()\n",
    "data_clean[\"sex\"]=le.fit_transform(data_clean[\"sex\"])\n",
    "print(data_clean.head())"
   ]
  },
  {
   "cell_type": "code",
   "execution_count": 7,
   "metadata": {},
   "outputs": [
    {
     "name": "stdout",
     "output_type": "stream",
     "text": [
      "   pclass  survived  sex        age  sibsp  parch    fare       body\n",
      "0       3         0    0  29.838978      0      0   7.750  29.838978\n",
      "1       2         0    1  39.000000      0      0  26.000  29.838978\n",
      "2       2         1    0  40.000000      0      0  13.000  29.838978\n",
      "3       3         1    0  31.000000      1      1  20.525  29.838978\n",
      "4       3         1    0  29.838978      2      0  23.250  29.838978\n"
     ]
    }
   ],
   "source": [
    "data_clean=data_clean.fillna(data_clean[\"age\"].mean()) \n",
    "print(data_clean.head()) # kisi ek particular column k nan ko modify krna h to kya kru"
   ]
  },
  {
   "cell_type": "code",
   "execution_count": 8,
   "metadata": {},
   "outputs": [
    {
     "name": "stdout",
     "output_type": "stream",
     "text": [
      "(1009, 7) (1009, 1)\n"
     ]
    }
   ],
   "source": [
    "input_cols=[\"pclass\",\"sex\",\"age\",\"sibsp\",\"parch\",\"fare\",\"body\"]\n",
    "output_cols=[\"survived\"]\n",
    "X_train=data_clean[input_cols]\n",
    "Y_train=data_clean[output_cols]\n",
    "print(X_train.shape,Y_train.shape)"
   ]
  },
  {
   "cell_type": "code",
   "execution_count": 9,
   "metadata": {},
   "outputs": [
    {
     "name": "stdout",
     "output_type": "stream",
     "text": [
      "<class 'pandas.core.frame.DataFrame'>\n",
      "RangeIndex: 1009 entries, 0 to 1008\n",
      "Data columns (total 8 columns):\n",
      "pclass      1009 non-null int64\n",
      "survived    1009 non-null int64\n",
      "sex         1009 non-null int32\n",
      "age         1009 non-null float64\n",
      "sibsp       1009 non-null int64\n",
      "parch       1009 non-null int64\n",
      "fare        1009 non-null float64\n",
      "body        1009 non-null float64\n",
      "dtypes: float64(3), int32(1), int64(4)\n",
      "memory usage: 59.2 KB\n",
      "None\n"
     ]
    }
   ],
   "source": [
    "print(data_clean.info())"
   ]
  },
  {
   "cell_type": "markdown",
   "metadata": {},
   "source": [
    "# Lets Write an Algorithm now"
   ]
  },
  {
   "cell_type": "code",
   "execution_count": null,
   "metadata": {},
   "outputs": [],
   "source": []
  },
  {
   "cell_type": "code",
   "execution_count": 10,
   "metadata": {},
   "outputs": [],
   "source": [
    "def entropy(col):\n",
    "    n=col.shape[0]\n",
    "    ent=0.0\n",
    "    count=np.unique(col,return_counts=True)\n",
    "    for ix in count[1]:\n",
    "        p=ix/n\n",
    "        ent+=(-1.0*p*np.log2(p))\n",
    "    return ent  \n",
    "def divide_data(x_data,fkey,fval):\n",
    "    left=pd.DataFrame([],columns=x_data.columns)\n",
    "    right=pd.DataFrame([],columns=x_data.columns)\n",
    "    for ix in range(x_data.shape[0]):\n",
    "        val=x_data[fkey].loc[ix]\n",
    "        if val>fval:\n",
    "            left=left.append(x_data.loc[ix])\n",
    "        else:\n",
    "            right=right.append(x_data.loc[ix])\n",
    "    return left,right\n",
    "def information_gain(x_data,fkey,fval):\n",
    "    left,right=divide_data(x_data,fkey,fval)\n",
    "    l=float(left.shape[0]/x_data.shape[0])\n",
    "    r=float(right.shape[0]/x_data.shape[0])\n",
    "    if left.shape[0]==0 or right.shape[0]==0:\n",
    "        return -100000000\n",
    "    i_gain=entropy(x_data.survived)-(l*entropy(left.survived)+r*entropy(right.survived))\n",
    "    return i_gain"
   ]
  },
  {
   "cell_type": "code",
   "execution_count": 11,
   "metadata": {},
   "outputs": [],
   "source": [
    "class DecisionTree:\n",
    "    def __init__(self,depth=0,max_depth=5):\n",
    "        self.left=None\n",
    "        self.right=None\n",
    "        self.fkey=None\n",
    "        self.fval=None\n",
    "        self.depth=depth\n",
    "        self.max_depth=max_depth\n",
    "        self.target=None\n",
    "    def train(self,X_train):\n",
    "        features=[\"pclass\",\"sex\",\"age\",\"sibsp\",\"parch\",\"fare\",\"body\"]\n",
    "        information=[]\n",
    "        for ix in features:\n",
    "            ig=information_gain(X_train,ix,X_train[ix].mean())\n",
    "            information.append(ig)\n",
    "        self.fkey=features[np.argmax(information)]\n",
    "        self.fval=X_train[self.fkey].mean()\n",
    "        left,right=divide_data(X_train,self.fkey,self.fval)\n",
    "        left=left.reset_index(drop=True)\n",
    "        right=right.reset_index(drop=True)\n",
    "        if left.shape[0]==0 or right.shape[0]==0:\n",
    "            if X_train.survived.mean()>=0.5:\n",
    "                self.target=\"survived\"\n",
    "            else:\n",
    "                self.target=\"dead\"\n",
    "            return\n",
    "        if self.depth>=self.max_depth:\n",
    "            if X_train.survived.mean()>=0.5:\n",
    "                self.target=\"survived\"\n",
    "            else:\n",
    "                self.target=\"dead\"\n",
    "            return\n",
    "        self.left=DecisionTree(self.depth+1,self.max_depth)\n",
    "        self.left.train(left)\n",
    "        self.right=DecisionTree(self.depth+1,self.max_depth)\n",
    "        self.right.train(right)\n",
    "        if X_train.survived.mean()>=0.5:\n",
    "            self.target=\"survived\"\n",
    "        else:\n",
    "            self.target=\"dead\"\n",
    "        return \n",
    "    def predict(self,test):\n",
    "        if test[self.fkey]>self.fval:\n",
    "            if self.right is None:\n",
    "                return self.target\n",
    "            return self.right.predict(test)\n",
    "        else:\n",
    "            if self.left is None:\n",
    "                return self.target\n",
    "            return self.left.predict(test)"
   ]
  },
  {
   "cell_type": "code",
   "execution_count": 12,
   "metadata": {},
   "outputs": [],
   "source": [
    "dt=DecisionTree()\n",
    "dt.train(data_clean)"
   ]
  },
  {
   "cell_type": "code",
   "execution_count": 13,
   "metadata": {},
   "outputs": [
    {
     "name": "stdout",
     "output_type": "stream",
     "text": [
      "   pclass                              name     sex   age  sibsp  parch  \\\n",
      "0       1  Flynn, Mr. John Irwin (\"Irving\")    male  36.0      0      0   \n",
      "1       3      Sage, Miss. Constance Gladys  female   NaN      8      2   \n",
      "2       1             Rood, Mr. Hugh Roscoe    male   NaN      0      0   \n",
      "3       2      Gillespie, Mr. William Henry    male  34.0      0      0   \n",
      "4       2        Collander, Mr. Erik Gustaf    male  28.0      0      0   \n",
      "\n",
      "     ticket     fare cabin embarked boat  body  \\\n",
      "0  PC 17474  26.3875   E25        S    5   NaN   \n",
      "1  CA. 2343  69.5500   NaN        S  NaN   NaN   \n",
      "2    113767  50.0000   A32        S  NaN   NaN   \n",
      "3     12233  13.0000   NaN        S  NaN   NaN   \n",
      "4    248740  13.0000   NaN        S  NaN   NaN   \n",
      "\n",
      "                           home.dest  \n",
      "0                       Brooklyn, NY  \n",
      "1                                NaN  \n",
      "2                        Seattle, WA  \n",
      "3                      Vancouver, BC  \n",
      "4  Helsinki, Finland Ashtabula, Ohio  \n"
     ]
    }
   ],
   "source": [
    "test_data=pd.read_csv('test.csv')\n",
    "print(test_data.head())"
   ]
  },
  {
   "cell_type": "code",
   "execution_count": 14,
   "metadata": {},
   "outputs": [
    {
     "name": "stdout",
     "output_type": "stream",
     "text": [
      "sex\n",
      "0.6422200198216056\n",
      "body\n",
      "pclass\n"
     ]
    }
   ],
   "source": [
    "print(dt.fkey)\n",
    "print(dt.fval)\n",
    "print(dt.left.fkey)\n",
    "print(dt.right.fkey)"
   ]
  },
  {
   "cell_type": "code",
   "execution_count": 15,
   "metadata": {},
   "outputs": [
    {
     "name": "stdout",
     "output_type": "stream",
     "text": [
      "<class 'pandas.core.frame.DataFrame'>\n",
      "RangeIndex: 300 entries, 0 to 299\n",
      "Data columns (total 7 columns):\n",
      "pclass    300 non-null int64\n",
      "sex       300 non-null object\n",
      "age       234 non-null float64\n",
      "sibsp     300 non-null int64\n",
      "parch     300 non-null int64\n",
      "fare      300 non-null float64\n",
      "body      23 non-null float64\n",
      "dtypes: float64(3), int64(3), object(1)\n",
      "memory usage: 16.5+ KB\n",
      "None\n"
     ]
    }
   ],
   "source": [
    "columns=[\"name\",\"ticket\",\"embarked\",\"cabin\",\"boat\",\"home.dest\"]\n",
    "test_data_clean=test_data.drop(columns,axis=1)\n",
    "print(test_data_clean.info())"
   ]
  },
  {
   "cell_type": "code",
   "execution_count": 16,
   "metadata": {},
   "outputs": [
    {
     "name": "stdout",
     "output_type": "stream",
     "text": [
      "   pclass  sex   age  sibsp  parch     fare  body\n",
      "0       1    1  36.0      0      0  26.3875   NaN\n",
      "1       3    0   NaN      8      2  69.5500   NaN\n",
      "2       1    1   NaN      0      0  50.0000   NaN\n",
      "3       2    1  34.0      0      0  13.0000   NaN\n",
      "4       2    1  28.0      0      0  13.0000   NaN\n"
     ]
    }
   ],
   "source": [
    "from sklearn.preprocessing import LabelEncoder\n",
    "le=LabelEncoder()\n",
    "test_data_clean[\"sex\"]=le.fit_transform(test_data_clean[\"sex\"])\n",
    "print(test_data_clean.head())"
   ]
  },
  {
   "cell_type": "code",
   "execution_count": 17,
   "metadata": {},
   "outputs": [
    {
     "name": "stdout",
     "output_type": "stream",
     "text": [
      "   pclass  sex        age  sibsp  parch     fare       body\n",
      "0       1    1  36.000000      0      0  26.3875  30.027422\n",
      "1       3    0  30.027422      8      2  69.5500  30.027422\n",
      "2       1    1  30.027422      0      0  50.0000  30.027422\n",
      "3       2    1  34.000000      0      0  13.0000  30.027422\n",
      "4       2    1  28.000000      0      0  13.0000  30.027422\n"
     ]
    }
   ],
   "source": [
    "test_data_clean=test_data_clean.fillna(test_data_clean[\"age\"].mean()) \n",
    "print(test_data_clean.head()) # kisi ek particular column k nan ko modify krna h to kya kru"
   ]
  },
  {
   "cell_type": "code",
   "execution_count": 18,
   "metadata": {},
   "outputs": [],
   "source": [
    "test_data_clean=test_data_clean.reset_index(drop=True)\n",
    "pred=[]\n",
    "for ix in range(test_data_clean.shape[0]):\n",
    "    pred.append(dt.predict(test_data_clean.loc[ix]))"
   ]
  },
  {
   "cell_type": "code",
   "execution_count": 19,
   "metadata": {},
   "outputs": [
    {
     "name": "stdout",
     "output_type": "stream",
     "text": [
      "[0 0 0 0 0 0 0 1 1 0 1 1 0 1 0 1 1 0 0 0 0 1 0 0 1 0 0 0 0 0 1 0 0 0 0 0 0\n",
      " 0 1 1 0 0 1 0 1 0 0 1 1 0 1 0 1 0 1 0 1 1 0 1 0 0 0 0 0 0 1 1 1 0 0 1 0 1\n",
      " 0 0 0 0 1 1 0 1 1 0 0 1 1 1 0 1 0 1 1 1 0 0 0 0 0 0 0 1 1 0 1 1 0 0 0 1 0\n",
      " 0 0 1 0 0 1 1 0 0 1 0 1 1 0 1 0 0 1 0 0 0 0 0 1 1 1 0 1 0 0 1 1 0 0 0 1 1\n",
      " 0 1 1 0 0 0 1 0 0 0 1 1 0 1 0 0 1 0 1 0 0 1 0 0 1 1 0 0 0 0 1 0 0 1 0 1 0\n",
      " 1 1 1 1 0 0 1 1 1 0 1 1 0 0 0 0 1 0 0 0 0 1 1 0 1 0 1 0 0 0 0 0 0 1 0 0 1\n",
      " 1 0 0 1 1 1 0 1 1 1 0 0 1 0 0 0 1 0 1 0 1 1 0 0 0 0 0 0 0 1 1 1 0 1 1 0 1\n",
      " 1 1 1 0 1 0 1 0 0 1 0 0 0 1 0 0 1 1 0 0 1 0 1 0 0 0 0 1 0 0 0 0 0 0 1 0 0\n",
      " 0 1 1 0]\n"
     ]
    }
   ],
   "source": [
    "pred=le.fit_transform(pred)\n",
    "print(pred)"
   ]
  },
  {
   "cell_type": "code",
   "execution_count": 20,
   "metadata": {},
   "outputs": [
    {
     "name": "stdout",
     "output_type": "stream",
     "text": [
      "300\n"
     ]
    }
   ],
   "source": [
    "print(len(pred))"
   ]
  },
  {
   "cell_type": "code",
   "execution_count": 21,
   "metadata": {},
   "outputs": [
    {
     "name": "stdout",
     "output_type": "stream",
     "text": [
      "300\n"
     ]
    }
   ],
   "source": [
    "print(test_data_clean.shape[0])"
   ]
  },
  {
   "cell_type": "code",
   "execution_count": 22,
   "metadata": {},
   "outputs": [
    {
     "name": "stdout",
     "output_type": "stream",
     "text": [
      "[  0   1   2   3   4   5   6   7   8   9  10  11  12  13  14  15  16  17\n",
      "  18  19  20  21  22  23  24  25  26  27  28  29  30  31  32  33  34  35\n",
      "  36  37  38  39  40  41  42  43  44  45  46  47  48  49  50  51  52  53\n",
      "  54  55  56  57  58  59  60  61  62  63  64  65  66  67  68  69  70  71\n",
      "  72  73  74  75  76  77  78  79  80  81  82  83  84  85  86  87  88  89\n",
      "  90  91  92  93  94  95  96  97  98  99 100 101 102 103 104 105 106 107\n",
      " 108 109 110 111 112 113 114 115 116 117 118 119 120 121 122 123 124 125\n",
      " 126 127 128 129 130 131 132 133 134 135 136 137 138 139 140 141 142 143\n",
      " 144 145 146 147 148 149 150 151 152 153 154 155 156 157 158 159 160 161\n",
      " 162 163 164 165 166 167 168 169 170 171 172 173 174 175 176 177 178 179\n",
      " 180 181 182 183 184 185 186 187 188 189 190 191 192 193 194 195 196 197\n",
      " 198 199 200 201 202 203 204 205 206 207 208 209 210 211 212 213 214 215\n",
      " 216 217 218 219 220 221 222 223 224 225 226 227 228 229 230 231 232 233\n",
      " 234 235 236 237 238 239 240 241 242 243 244 245 246 247 248 249 250 251\n",
      " 252 253 254 255 256 257 258 259 260 261 262 263 264 265 266 267 268 269\n",
      " 270 271 272 273 274 275 276 277 278 279 280 281 282 283 284 285 286 287\n",
      " 288 289 290 291 292 293 294 295 296 297 298 299]\n"
     ]
    }
   ],
   "source": [
    "Id=np.arange(test_data_clean.shape[0])\n",
    "print(Id)"
   ]
  },
  {
   "cell_type": "code",
   "execution_count": 90,
   "metadata": {},
   "outputs": [],
   "source": [
    "result=np.stack((Id,pred),axis=1)"
   ]
  },
  {
   "cell_type": "code",
   "execution_count": 91,
   "metadata": {},
   "outputs": [],
   "source": [
    "result_df=pd.DataFrame(result,columns=[\"Id\",\"survived\"])"
   ]
  },
  {
   "cell_type": "code",
   "execution_count": 92,
   "metadata": {},
   "outputs": [
    {
     "name": "stdout",
     "output_type": "stream",
     "text": [
      "   Id  survived\n",
      "0   0         0\n",
      "1   1         0\n",
      "2   2         0\n",
      "3   3         0\n",
      "4   4         0\n"
     ]
    }
   ],
   "source": [
    "print(result_df.head())"
   ]
  },
  {
   "cell_type": "code",
   "execution_count": 93,
   "metadata": {},
   "outputs": [],
   "source": [
    "result_df.to_csv(\"resultss.csv\",index=False)"
   ]
  },
  {
   "cell_type": "code",
   "execution_count": 78,
   "metadata": {},
   "outputs": [],
   "source": [
    "from sklearn.tree import DecisionTreeClassifier\n",
    "dt=DecisionTreeClassifier(criterion=\"entropy\",max_depth=5)"
   ]
  },
  {
   "cell_type": "code",
   "execution_count": 53,
   "metadata": {},
   "outputs": [
    {
     "data": {
      "text/plain": [
       "DecisionTreeClassifier(class_weight=None, criterion='entropy', max_depth=5,\n",
       "                       max_features=None, max_leaf_nodes=None,\n",
       "                       min_impurity_decrease=0.0, min_impurity_split=None,\n",
       "                       min_samples_leaf=1, min_samples_split=2,\n",
       "                       min_weight_fraction_leaf=0.0, presort=False,\n",
       "                       random_state=None, splitter='best')"
      ]
     },
     "execution_count": 53,
     "metadata": {},
     "output_type": "execute_result"
    }
   ],
   "source": [
    "dt.fit(data_clean[input_cols],data_clean[output_cols])"
   ]
  },
  {
   "cell_type": "code",
   "execution_count": 54,
   "metadata": {},
   "outputs": [],
   "source": [
    "pred=dt.predict(test_data_clean[input_cols])"
   ]
  },
  {
   "cell_type": "markdown",
   "metadata": {},
   "source": [
    "# Lets Improve Accuracy"
   ]
  },
  {
   "cell_type": "code",
   "execution_count": 87,
   "metadata": {},
   "outputs": [],
   "source": [
    "import warnings \n",
    "warnings.filterwarnings(\"ignore\")\n",
    "from sklearn.ensemble import RandomForestClassifier\n",
    "rf=RandomForestClassifier(n_estimators=45,criterion=\"entropy\",max_depth=5)"
   ]
  },
  {
   "cell_type": "code",
   "execution_count": 88,
   "metadata": {},
   "outputs": [
    {
     "data": {
      "text/plain": [
       "RandomForestClassifier(bootstrap=True, class_weight=None, criterion='entropy',\n",
       "                       max_depth=5, max_features='auto', max_leaf_nodes=None,\n",
       "                       min_impurity_decrease=0.0, min_impurity_split=None,\n",
       "                       min_samples_leaf=1, min_samples_split=2,\n",
       "                       min_weight_fraction_leaf=0.0, n_estimators=45,\n",
       "                       n_jobs=None, oob_score=False, random_state=None,\n",
       "                       verbose=0, warm_start=False)"
      ]
     },
     "execution_count": 88,
     "metadata": {},
     "output_type": "execute_result"
    }
   ],
   "source": [
    "rf.fit(data_clean[input_cols],data_clean[output_cols])"
   ]
  },
  {
   "cell_type": "code",
   "execution_count": 89,
   "metadata": {},
   "outputs": [],
   "source": [
    "pred=rf.predict(test_data_clean[input_cols])"
   ]
  },
  {
   "cell_type": "code",
   "execution_count": 79,
   "metadata": {},
   "outputs": [],
   "source": [
    "from sklearn.model_selection import cross_val_score\n",
    "acc=cross_val_score(RandomForestClassifier(n_estimators=10,criterion='entropy',max_depth=10),data_clean[input_cols],data_clean[output_cols],cv=5).mean()"
   ]
  },
  {
   "cell_type": "code",
   "execution_count": 80,
   "metadata": {},
   "outputs": [
    {
     "name": "stdout",
     "output_type": "stream",
     "text": [
      "0.8057103644339877\n"
     ]
    }
   ],
   "source": [
    "print(acc)"
   ]
  },
  {
   "cell_type": "code",
   "execution_count": 82,
   "metadata": {},
   "outputs": [],
   "source": [
    "acc_list=[]\n",
    "for i in range(1,50):\n",
    "    acc=cross_val_score(RandomForestClassifier(n_estimators=i,criterion='entropy',max_depth=10),data_clean[input_cols],data_clean[output_cols],cv=5).mean()\n",
    "    acc_list.append(acc)"
   ]
  },
  {
   "cell_type": "code",
   "execution_count": 85,
   "metadata": {},
   "outputs": [
    {
     "data": {
      "image/png": "[encoded data removed]",
      "text/plain": [
       "<Figure size 432x288 with 1 Axes>"
      ]
     },
     "metadata": {
      "needs_background": "light"
     },
     "output_type": "display_data"
    }
   ],
   "source": [
    "import matplotlib.pyplot as plt\n",
    "plt.plot(acc_list)\n",
    "plt.show()"
   ]
  },
  {
   "cell_type": "code",
   "execution_count": 86,
   "metadata": {},
   "outputs": [
    {
     "name": "stdout",
     "output_type": "stream",
     "text": [
      "45\n"
     ]
    }
   ],
   "source": [
    "print(np.argmax(acc_list))"
   ]
  },
  {
   "cell_type": "code",
   "execution_count": null,
   "metadata": {},
   "outputs": [],
   "source": []
  }
 ],
 "metadata": {
  "kernelspec": {
   "display_name": "Python 3",
   "language": "python",
   "name": "python3"
  },
  "language_info": {
   "codemirror_mode": {
    "name": "ipython",
    "version": 3
   },
   "file_extension": ".py",
   "mimetype": "text/x-python",
   "name": "python",
   "nbconvert_exporter": "python",
   "pygments_lexer": "ipython3",
   "version": "3.6.8"
  }
 },
 "nbformat": 4,
 "nbformat_minor": 2
}
